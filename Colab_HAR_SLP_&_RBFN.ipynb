{
  "nbformat": 4,
  "nbformat_minor": 0,
  "metadata": {
    "colab": {
      "name": "Colab_HAR_SLP_&_RBFN.ipynb",
      "provenance": [],
      "collapsed_sections": []
    },
    "kernelspec": {
      "name": "python3",
      "display_name": "Python 3"
    }
  },
  "cells": [
    {
      "cell_type": "code",
      "metadata": {
        "id": "EWQHr3EgZVuc"
      },
      "source": [
        "import numpy as np\n",
        "import pandas as pd\n",
        "import seaborn as sns\n",
        "import matplotlib.pyplot as plt\n",
        "from time import time\n",
        "\n",
        "from scipy.spatial import distance\n",
        "from scipy.special import expit\n",
        "\n",
        "from sklearn.preprocessing import StandardScaler\n",
        "from sklearn import preprocessing\n",
        "from sklearn.utils import shuffle\n",
        "from sklearn.metrics import accuracy_score\n",
        "\n",
        "from sklearn.cluster import KMeans\n",
        "from sklearn.linear_model import Perceptron\n",
        "from sklearn.decomposition import PCA\n",
        "\n",
        "\n",
        "plt.rcParams[\"figure.figsize\"] = [12,8]"
      ],
      "execution_count": null,
      "outputs": []
    },
    {
      "cell_type": "code",
      "metadata": {
        "id": "LxelwgxaZhLS"
      },
      "source": [
        "# importing data and analysis\n",
        "train = pd.read_csv(\"https://drive.google.com/uc?export=download&id=1sb3dZ-m3ISVVDry9k4_UcaVQVbIOyHJ0\")\n",
        "test = pd.read_csv(\"https://drive.google.com/uc?export=download&id=1w0vGrGk0g11hUbJ8hzgu999ESBAvo5Ob\")"
      ],
      "execution_count": null,
      "outputs": []
    },
    {
      "cell_type": "code",
      "metadata": {
        "colab": {
          "base_uri": "https://localhost:8080/",
          "height": 287
        },
        "id": "p8tLxr0foCc0",
        "outputId": "0de2a76d-6722-4c9d-e0e8-4e6ffab3e8a4"
      },
      "source": [
        "train.head()"
      ],
      "execution_count": null,
      "outputs": [
        {
          "output_type": "execute_result",
          "data": {
            "text/html": [
              "<div>\n",
              "<style scoped>\n",
              "    .dataframe tbody tr th:only-of-type {\n",
              "        vertical-align: middle;\n",
              "    }\n",
              "\n",
              "    .dataframe tbody tr th {\n",
              "        vertical-align: top;\n",
              "    }\n",
              "\n",
              "    .dataframe thead th {\n",
              "        text-align: right;\n",
              "    }\n",
              "</style>\n",
              "<table border=\"1\" class=\"dataframe\">\n",
              "  <thead>\n",
              "    <tr style=\"text-align: right;\">\n",
              "      <th></th>\n",
              "      <th>tBodyAcc-mean()-X</th>\n",
              "      <th>tBodyAcc-mean()-Y</th>\n",
              "      <th>tBodyAcc-mean()-Z</th>\n",
              "      <th>tBodyAcc-std()-X</th>\n",
              "      <th>tBodyAcc-std()-Y</th>\n",
              "      <th>tBodyAcc-std()-Z</th>\n",
              "      <th>tBodyAcc-mad()-X</th>\n",
              "      <th>tBodyAcc-mad()-Y</th>\n",
              "      <th>tBodyAcc-mad()-Z</th>\n",
              "      <th>tBodyAcc-max()-X</th>\n",
              "      <th>tBodyAcc-max()-Y</th>\n",
              "      <th>tBodyAcc-max()-Z</th>\n",
              "      <th>tBodyAcc-min()-X</th>\n",
              "      <th>tBodyAcc-min()-Y</th>\n",
              "      <th>tBodyAcc-min()-Z</th>\n",
              "      <th>tBodyAcc-sma()</th>\n",
              "      <th>tBodyAcc-energy()-X</th>\n",
              "      <th>tBodyAcc-energy()-Y</th>\n",
              "      <th>tBodyAcc-energy()-Z</th>\n",
              "      <th>tBodyAcc-iqr()-X</th>\n",
              "      <th>tBodyAcc-iqr()-Y</th>\n",
              "      <th>tBodyAcc-iqr()-Z</th>\n",
              "      <th>tBodyAcc-entropy()-X</th>\n",
              "      <th>tBodyAcc-entropy()-Y</th>\n",
              "      <th>tBodyAcc-entropy()-Z</th>\n",
              "      <th>tBodyAcc-arCoeff()-X,1</th>\n",
              "      <th>tBodyAcc-arCoeff()-X,2</th>\n",
              "      <th>tBodyAcc-arCoeff()-X,3</th>\n",
              "      <th>tBodyAcc-arCoeff()-X,4</th>\n",
              "      <th>tBodyAcc-arCoeff()-Y,1</th>\n",
              "      <th>tBodyAcc-arCoeff()-Y,2</th>\n",
              "      <th>tBodyAcc-arCoeff()-Y,3</th>\n",
              "      <th>tBodyAcc-arCoeff()-Y,4</th>\n",
              "      <th>tBodyAcc-arCoeff()-Z,1</th>\n",
              "      <th>tBodyAcc-arCoeff()-Z,2</th>\n",
              "      <th>tBodyAcc-arCoeff()-Z,3</th>\n",
              "      <th>tBodyAcc-arCoeff()-Z,4</th>\n",
              "      <th>tBodyAcc-correlation()-X,Y</th>\n",
              "      <th>tBodyAcc-correlation()-X,Z</th>\n",
              "      <th>tBodyAcc-correlation()-Y,Z</th>\n",
              "      <th>...</th>\n",
              "      <th>fBodyBodyAccJerkMag-entropy()</th>\n",
              "      <th>fBodyBodyAccJerkMag-maxInds</th>\n",
              "      <th>fBodyBodyAccJerkMag-meanFreq()</th>\n",
              "      <th>fBodyBodyAccJerkMag-skewness()</th>\n",
              "      <th>fBodyBodyAccJerkMag-kurtosis()</th>\n",
              "      <th>fBodyBodyGyroMag-mean()</th>\n",
              "      <th>fBodyBodyGyroMag-std()</th>\n",
              "      <th>fBodyBodyGyroMag-mad()</th>\n",
              "      <th>fBodyBodyGyroMag-max()</th>\n",
              "      <th>fBodyBodyGyroMag-min()</th>\n",
              "      <th>fBodyBodyGyroMag-sma()</th>\n",
              "      <th>fBodyBodyGyroMag-energy()</th>\n",
              "      <th>fBodyBodyGyroMag-iqr()</th>\n",
              "      <th>fBodyBodyGyroMag-entropy()</th>\n",
              "      <th>fBodyBodyGyroMag-maxInds</th>\n",
              "      <th>fBodyBodyGyroMag-meanFreq()</th>\n",
              "      <th>fBodyBodyGyroMag-skewness()</th>\n",
              "      <th>fBodyBodyGyroMag-kurtosis()</th>\n",
              "      <th>fBodyBodyGyroJerkMag-mean()</th>\n",
              "      <th>fBodyBodyGyroJerkMag-std()</th>\n",
              "      <th>fBodyBodyGyroJerkMag-mad()</th>\n",
              "      <th>fBodyBodyGyroJerkMag-max()</th>\n",
              "      <th>fBodyBodyGyroJerkMag-min()</th>\n",
              "      <th>fBodyBodyGyroJerkMag-sma()</th>\n",
              "      <th>fBodyBodyGyroJerkMag-energy()</th>\n",
              "      <th>fBodyBodyGyroJerkMag-iqr()</th>\n",
              "      <th>fBodyBodyGyroJerkMag-entropy()</th>\n",
              "      <th>fBodyBodyGyroJerkMag-maxInds</th>\n",
              "      <th>fBodyBodyGyroJerkMag-meanFreq()</th>\n",
              "      <th>fBodyBodyGyroJerkMag-skewness()</th>\n",
              "      <th>fBodyBodyGyroJerkMag-kurtosis()</th>\n",
              "      <th>angle(tBodyAccMean,gravity)</th>\n",
              "      <th>angle(tBodyAccJerkMean),gravityMean)</th>\n",
              "      <th>angle(tBodyGyroMean,gravityMean)</th>\n",
              "      <th>angle(tBodyGyroJerkMean,gravityMean)</th>\n",
              "      <th>angle(X,gravityMean)</th>\n",
              "      <th>angle(Y,gravityMean)</th>\n",
              "      <th>angle(Z,gravityMean)</th>\n",
              "      <th>subject</th>\n",
              "      <th>Activity</th>\n",
              "    </tr>\n",
              "  </thead>\n",
              "  <tbody>\n",
              "    <tr>\n",
              "      <th>0</th>\n",
              "      <td>0.288585</td>\n",
              "      <td>-0.020294</td>\n",
              "      <td>-0.132905</td>\n",
              "      <td>-0.995279</td>\n",
              "      <td>-0.983111</td>\n",
              "      <td>-0.913526</td>\n",
              "      <td>-0.995112</td>\n",
              "      <td>-0.983185</td>\n",
              "      <td>-0.923527</td>\n",
              "      <td>-0.934724</td>\n",
              "      <td>-0.567378</td>\n",
              "      <td>-0.744413</td>\n",
              "      <td>0.852947</td>\n",
              "      <td>0.685845</td>\n",
              "      <td>0.814263</td>\n",
              "      <td>-0.965523</td>\n",
              "      <td>-0.999945</td>\n",
              "      <td>-0.999863</td>\n",
              "      <td>-0.994612</td>\n",
              "      <td>-0.994231</td>\n",
              "      <td>-0.987614</td>\n",
              "      <td>-0.943220</td>\n",
              "      <td>-0.407747</td>\n",
              "      <td>-0.679338</td>\n",
              "      <td>-0.602122</td>\n",
              "      <td>0.929294</td>\n",
              "      <td>-0.853011</td>\n",
              "      <td>0.359910</td>\n",
              "      <td>-0.058526</td>\n",
              "      <td>0.256892</td>\n",
              "      <td>-0.224848</td>\n",
              "      <td>0.264106</td>\n",
              "      <td>-0.095246</td>\n",
              "      <td>0.278851</td>\n",
              "      <td>-0.465085</td>\n",
              "      <td>0.491936</td>\n",
              "      <td>-0.190884</td>\n",
              "      <td>0.376314</td>\n",
              "      <td>0.435129</td>\n",
              "      <td>0.660790</td>\n",
              "      <td>...</td>\n",
              "      <td>-1.0</td>\n",
              "      <td>-0.936508</td>\n",
              "      <td>0.346989</td>\n",
              "      <td>-0.516080</td>\n",
              "      <td>-0.802760</td>\n",
              "      <td>-0.980135</td>\n",
              "      <td>-0.961309</td>\n",
              "      <td>-0.973653</td>\n",
              "      <td>-0.952264</td>\n",
              "      <td>-0.989498</td>\n",
              "      <td>-0.980135</td>\n",
              "      <td>-0.999240</td>\n",
              "      <td>-0.992656</td>\n",
              "      <td>-0.701291</td>\n",
              "      <td>-1.000000</td>\n",
              "      <td>-0.128989</td>\n",
              "      <td>0.586156</td>\n",
              "      <td>0.374605</td>\n",
              "      <td>-0.991990</td>\n",
              "      <td>-0.990697</td>\n",
              "      <td>-0.989941</td>\n",
              "      <td>-0.992448</td>\n",
              "      <td>-0.991048</td>\n",
              "      <td>-0.991990</td>\n",
              "      <td>-0.999937</td>\n",
              "      <td>-0.990458</td>\n",
              "      <td>-0.871306</td>\n",
              "      <td>-1.000000</td>\n",
              "      <td>-0.074323</td>\n",
              "      <td>-0.298676</td>\n",
              "      <td>-0.710304</td>\n",
              "      <td>-0.112754</td>\n",
              "      <td>0.030400</td>\n",
              "      <td>-0.464761</td>\n",
              "      <td>-0.018446</td>\n",
              "      <td>-0.841247</td>\n",
              "      <td>0.179941</td>\n",
              "      <td>-0.058627</td>\n",
              "      <td>1</td>\n",
              "      <td>STANDING</td>\n",
              "    </tr>\n",
              "    <tr>\n",
              "      <th>1</th>\n",
              "      <td>0.278419</td>\n",
              "      <td>-0.016411</td>\n",
              "      <td>-0.123520</td>\n",
              "      <td>-0.998245</td>\n",
              "      <td>-0.975300</td>\n",
              "      <td>-0.960322</td>\n",
              "      <td>-0.998807</td>\n",
              "      <td>-0.974914</td>\n",
              "      <td>-0.957686</td>\n",
              "      <td>-0.943068</td>\n",
              "      <td>-0.557851</td>\n",
              "      <td>-0.818409</td>\n",
              "      <td>0.849308</td>\n",
              "      <td>0.685845</td>\n",
              "      <td>0.822637</td>\n",
              "      <td>-0.981930</td>\n",
              "      <td>-0.999991</td>\n",
              "      <td>-0.999788</td>\n",
              "      <td>-0.998405</td>\n",
              "      <td>-0.999150</td>\n",
              "      <td>-0.977866</td>\n",
              "      <td>-0.948225</td>\n",
              "      <td>-0.714892</td>\n",
              "      <td>-0.500930</td>\n",
              "      <td>-0.570979</td>\n",
              "      <td>0.611627</td>\n",
              "      <td>-0.329549</td>\n",
              "      <td>0.284213</td>\n",
              "      <td>0.284595</td>\n",
              "      <td>0.115705</td>\n",
              "      <td>-0.090963</td>\n",
              "      <td>0.294310</td>\n",
              "      <td>-0.281211</td>\n",
              "      <td>0.085988</td>\n",
              "      <td>-0.022153</td>\n",
              "      <td>-0.016657</td>\n",
              "      <td>-0.220643</td>\n",
              "      <td>-0.013429</td>\n",
              "      <td>-0.072692</td>\n",
              "      <td>0.579382</td>\n",
              "      <td>...</td>\n",
              "      <td>-1.0</td>\n",
              "      <td>-0.841270</td>\n",
              "      <td>0.532061</td>\n",
              "      <td>-0.624871</td>\n",
              "      <td>-0.900160</td>\n",
              "      <td>-0.988296</td>\n",
              "      <td>-0.983322</td>\n",
              "      <td>-0.982659</td>\n",
              "      <td>-0.986321</td>\n",
              "      <td>-0.991829</td>\n",
              "      <td>-0.988296</td>\n",
              "      <td>-0.999811</td>\n",
              "      <td>-0.993979</td>\n",
              "      <td>-0.720683</td>\n",
              "      <td>-0.948718</td>\n",
              "      <td>-0.271958</td>\n",
              "      <td>-0.336310</td>\n",
              "      <td>-0.720015</td>\n",
              "      <td>-0.995854</td>\n",
              "      <td>-0.996399</td>\n",
              "      <td>-0.995442</td>\n",
              "      <td>-0.996866</td>\n",
              "      <td>-0.994440</td>\n",
              "      <td>-0.995854</td>\n",
              "      <td>-0.999981</td>\n",
              "      <td>-0.994544</td>\n",
              "      <td>-1.000000</td>\n",
              "      <td>-1.000000</td>\n",
              "      <td>0.158075</td>\n",
              "      <td>-0.595051</td>\n",
              "      <td>-0.861499</td>\n",
              "      <td>0.053477</td>\n",
              "      <td>-0.007435</td>\n",
              "      <td>-0.732626</td>\n",
              "      <td>0.703511</td>\n",
              "      <td>-0.844788</td>\n",
              "      <td>0.180289</td>\n",
              "      <td>-0.054317</td>\n",
              "      <td>1</td>\n",
              "      <td>STANDING</td>\n",
              "    </tr>\n",
              "    <tr>\n",
              "      <th>2</th>\n",
              "      <td>0.279653</td>\n",
              "      <td>-0.019467</td>\n",
              "      <td>-0.113462</td>\n",
              "      <td>-0.995380</td>\n",
              "      <td>-0.967187</td>\n",
              "      <td>-0.978944</td>\n",
              "      <td>-0.996520</td>\n",
              "      <td>-0.963668</td>\n",
              "      <td>-0.977469</td>\n",
              "      <td>-0.938692</td>\n",
              "      <td>-0.557851</td>\n",
              "      <td>-0.818409</td>\n",
              "      <td>0.843609</td>\n",
              "      <td>0.682401</td>\n",
              "      <td>0.839344</td>\n",
              "      <td>-0.983478</td>\n",
              "      <td>-0.999969</td>\n",
              "      <td>-0.999660</td>\n",
              "      <td>-0.999470</td>\n",
              "      <td>-0.997130</td>\n",
              "      <td>-0.964810</td>\n",
              "      <td>-0.974675</td>\n",
              "      <td>-0.592235</td>\n",
              "      <td>-0.485821</td>\n",
              "      <td>-0.570979</td>\n",
              "      <td>0.273025</td>\n",
              "      <td>-0.086309</td>\n",
              "      <td>0.337202</td>\n",
              "      <td>-0.164739</td>\n",
              "      <td>0.017150</td>\n",
              "      <td>-0.074507</td>\n",
              "      <td>0.342256</td>\n",
              "      <td>-0.332564</td>\n",
              "      <td>0.239281</td>\n",
              "      <td>-0.136204</td>\n",
              "      <td>0.173863</td>\n",
              "      <td>-0.299493</td>\n",
              "      <td>-0.124698</td>\n",
              "      <td>-0.181105</td>\n",
              "      <td>0.608900</td>\n",
              "      <td>...</td>\n",
              "      <td>-1.0</td>\n",
              "      <td>-0.904762</td>\n",
              "      <td>0.660795</td>\n",
              "      <td>-0.724697</td>\n",
              "      <td>-0.928539</td>\n",
              "      <td>-0.989255</td>\n",
              "      <td>-0.986028</td>\n",
              "      <td>-0.984274</td>\n",
              "      <td>-0.990979</td>\n",
              "      <td>-0.995703</td>\n",
              "      <td>-0.989255</td>\n",
              "      <td>-0.999854</td>\n",
              "      <td>-0.993238</td>\n",
              "      <td>-0.736521</td>\n",
              "      <td>-0.794872</td>\n",
              "      <td>-0.212728</td>\n",
              "      <td>-0.535352</td>\n",
              "      <td>-0.871914</td>\n",
              "      <td>-0.995031</td>\n",
              "      <td>-0.995127</td>\n",
              "      <td>-0.994640</td>\n",
              "      <td>-0.996060</td>\n",
              "      <td>-0.995866</td>\n",
              "      <td>-0.995031</td>\n",
              "      <td>-0.999973</td>\n",
              "      <td>-0.993755</td>\n",
              "      <td>-1.000000</td>\n",
              "      <td>-0.555556</td>\n",
              "      <td>0.414503</td>\n",
              "      <td>-0.390748</td>\n",
              "      <td>-0.760104</td>\n",
              "      <td>-0.118559</td>\n",
              "      <td>0.177899</td>\n",
              "      <td>0.100699</td>\n",
              "      <td>0.808529</td>\n",
              "      <td>-0.848933</td>\n",
              "      <td>0.180637</td>\n",
              "      <td>-0.049118</td>\n",
              "      <td>1</td>\n",
              "      <td>STANDING</td>\n",
              "    </tr>\n",
              "    <tr>\n",
              "      <th>3</th>\n",
              "      <td>0.279174</td>\n",
              "      <td>-0.026201</td>\n",
              "      <td>-0.123283</td>\n",
              "      <td>-0.996091</td>\n",
              "      <td>-0.983403</td>\n",
              "      <td>-0.990675</td>\n",
              "      <td>-0.997099</td>\n",
              "      <td>-0.982750</td>\n",
              "      <td>-0.989302</td>\n",
              "      <td>-0.938692</td>\n",
              "      <td>-0.576159</td>\n",
              "      <td>-0.829711</td>\n",
              "      <td>0.843609</td>\n",
              "      <td>0.682401</td>\n",
              "      <td>0.837869</td>\n",
              "      <td>-0.986093</td>\n",
              "      <td>-0.999976</td>\n",
              "      <td>-0.999736</td>\n",
              "      <td>-0.999504</td>\n",
              "      <td>-0.997180</td>\n",
              "      <td>-0.983799</td>\n",
              "      <td>-0.986007</td>\n",
              "      <td>-0.627446</td>\n",
              "      <td>-0.850930</td>\n",
              "      <td>-0.911872</td>\n",
              "      <td>0.061436</td>\n",
              "      <td>0.074840</td>\n",
              "      <td>0.198204</td>\n",
              "      <td>-0.264307</td>\n",
              "      <td>0.072545</td>\n",
              "      <td>-0.155320</td>\n",
              "      <td>0.323154</td>\n",
              "      <td>-0.170813</td>\n",
              "      <td>0.294938</td>\n",
              "      <td>-0.306081</td>\n",
              "      <td>0.482148</td>\n",
              "      <td>-0.470129</td>\n",
              "      <td>-0.305693</td>\n",
              "      <td>-0.362654</td>\n",
              "      <td>0.507459</td>\n",
              "      <td>...</td>\n",
              "      <td>-1.0</td>\n",
              "      <td>1.000000</td>\n",
              "      <td>0.678921</td>\n",
              "      <td>-0.701131</td>\n",
              "      <td>-0.909639</td>\n",
              "      <td>-0.989413</td>\n",
              "      <td>-0.987836</td>\n",
              "      <td>-0.986850</td>\n",
              "      <td>-0.986749</td>\n",
              "      <td>-0.996199</td>\n",
              "      <td>-0.989413</td>\n",
              "      <td>-0.999876</td>\n",
              "      <td>-0.989136</td>\n",
              "      <td>-0.720891</td>\n",
              "      <td>-1.000000</td>\n",
              "      <td>-0.035684</td>\n",
              "      <td>-0.230091</td>\n",
              "      <td>-0.511217</td>\n",
              "      <td>-0.995221</td>\n",
              "      <td>-0.995237</td>\n",
              "      <td>-0.995722</td>\n",
              "      <td>-0.995273</td>\n",
              "      <td>-0.995732</td>\n",
              "      <td>-0.995221</td>\n",
              "      <td>-0.999974</td>\n",
              "      <td>-0.995226</td>\n",
              "      <td>-0.955696</td>\n",
              "      <td>-0.936508</td>\n",
              "      <td>0.404573</td>\n",
              "      <td>-0.117290</td>\n",
              "      <td>-0.482845</td>\n",
              "      <td>-0.036788</td>\n",
              "      <td>-0.012892</td>\n",
              "      <td>0.640011</td>\n",
              "      <td>-0.485366</td>\n",
              "      <td>-0.848649</td>\n",
              "      <td>0.181935</td>\n",
              "      <td>-0.047663</td>\n",
              "      <td>1</td>\n",
              "      <td>STANDING</td>\n",
              "    </tr>\n",
              "    <tr>\n",
              "      <th>4</th>\n",
              "      <td>0.276629</td>\n",
              "      <td>-0.016570</td>\n",
              "      <td>-0.115362</td>\n",
              "      <td>-0.998139</td>\n",
              "      <td>-0.980817</td>\n",
              "      <td>-0.990482</td>\n",
              "      <td>-0.998321</td>\n",
              "      <td>-0.979672</td>\n",
              "      <td>-0.990441</td>\n",
              "      <td>-0.942469</td>\n",
              "      <td>-0.569174</td>\n",
              "      <td>-0.824705</td>\n",
              "      <td>0.849095</td>\n",
              "      <td>0.683250</td>\n",
              "      <td>0.837869</td>\n",
              "      <td>-0.992653</td>\n",
              "      <td>-0.999991</td>\n",
              "      <td>-0.999856</td>\n",
              "      <td>-0.999757</td>\n",
              "      <td>-0.998004</td>\n",
              "      <td>-0.981232</td>\n",
              "      <td>-0.991325</td>\n",
              "      <td>-0.786553</td>\n",
              "      <td>-0.559477</td>\n",
              "      <td>-0.761434</td>\n",
              "      <td>0.313276</td>\n",
              "      <td>-0.131208</td>\n",
              "      <td>0.191161</td>\n",
              "      <td>0.086904</td>\n",
              "      <td>0.257615</td>\n",
              "      <td>-0.272505</td>\n",
              "      <td>0.434728</td>\n",
              "      <td>-0.315375</td>\n",
              "      <td>0.439744</td>\n",
              "      <td>-0.269069</td>\n",
              "      <td>0.179414</td>\n",
              "      <td>-0.088952</td>\n",
              "      <td>-0.155804</td>\n",
              "      <td>-0.189763</td>\n",
              "      <td>0.599213</td>\n",
              "      <td>...</td>\n",
              "      <td>-1.0</td>\n",
              "      <td>-1.000000</td>\n",
              "      <td>0.559058</td>\n",
              "      <td>-0.528901</td>\n",
              "      <td>-0.858933</td>\n",
              "      <td>-0.991433</td>\n",
              "      <td>-0.989059</td>\n",
              "      <td>-0.987744</td>\n",
              "      <td>-0.991462</td>\n",
              "      <td>-0.998353</td>\n",
              "      <td>-0.991433</td>\n",
              "      <td>-0.999902</td>\n",
              "      <td>-0.989321</td>\n",
              "      <td>-0.763372</td>\n",
              "      <td>-0.897436</td>\n",
              "      <td>-0.273582</td>\n",
              "      <td>-0.510282</td>\n",
              "      <td>-0.830702</td>\n",
              "      <td>-0.995093</td>\n",
              "      <td>-0.995465</td>\n",
              "      <td>-0.995279</td>\n",
              "      <td>-0.995609</td>\n",
              "      <td>-0.997418</td>\n",
              "      <td>-0.995093</td>\n",
              "      <td>-0.999974</td>\n",
              "      <td>-0.995487</td>\n",
              "      <td>-1.000000</td>\n",
              "      <td>-0.936508</td>\n",
              "      <td>0.087753</td>\n",
              "      <td>-0.351471</td>\n",
              "      <td>-0.699205</td>\n",
              "      <td>0.123320</td>\n",
              "      <td>0.122542</td>\n",
              "      <td>0.693578</td>\n",
              "      <td>-0.615971</td>\n",
              "      <td>-0.847865</td>\n",
              "      <td>0.185151</td>\n",
              "      <td>-0.043892</td>\n",
              "      <td>1</td>\n",
              "      <td>STANDING</td>\n",
              "    </tr>\n",
              "  </tbody>\n",
              "</table>\n",
              "<p>5 rows × 563 columns</p>\n",
              "</div>"
            ],
            "text/plain": [
              "   tBodyAcc-mean()-X  tBodyAcc-mean()-Y  ...  subject  Activity\n",
              "0           0.288585          -0.020294  ...        1  STANDING\n",
              "1           0.278419          -0.016411  ...        1  STANDING\n",
              "2           0.279653          -0.019467  ...        1  STANDING\n",
              "3           0.279174          -0.026201  ...        1  STANDING\n",
              "4           0.276629          -0.016570  ...        1  STANDING\n",
              "\n",
              "[5 rows x 563 columns]"
            ]
          },
          "metadata": {
            "tags": []
          },
          "execution_count": 4
        }
      ]
    },
    {
      "cell_type": "code",
      "metadata": {
        "colab": {
          "base_uri": "https://localhost:8080/"
        },
        "id": "uYciXJXzoIbx",
        "outputId": "ee1efba5-71f6-4905-bfac-7a21f50a2651"
      },
      "source": [
        "train.dtypes"
      ],
      "execution_count": null,
      "outputs": [
        {
          "output_type": "execute_result",
          "data": {
            "text/plain": [
              "tBodyAcc-mean()-X       float64\n",
              "tBodyAcc-mean()-Y       float64\n",
              "tBodyAcc-mean()-Z       float64\n",
              "tBodyAcc-std()-X        float64\n",
              "tBodyAcc-std()-Y        float64\n",
              "                         ...   \n",
              "angle(X,gravityMean)    float64\n",
              "angle(Y,gravityMean)    float64\n",
              "angle(Z,gravityMean)    float64\n",
              "subject                   int64\n",
              "Activity                 object\n",
              "Length: 563, dtype: object"
            ]
          },
          "metadata": {
            "tags": []
          },
          "execution_count": 5
        }
      ]
    },
    {
      "cell_type": "code",
      "metadata": {
        "colab": {
          "base_uri": "https://localhost:8080/"
        },
        "id": "MnOrT-1poIa1",
        "outputId": "b0e7a953-c445-4367-bb9e-7ab1ecb653c0"
      },
      "source": [
        "train.shape, train.notna().shape, train.notnull().shape"
      ],
      "execution_count": null,
      "outputs": [
        {
          "output_type": "execute_result",
          "data": {
            "text/plain": [
              "((7352, 563), (7352, 563), (7352, 563))"
            ]
          },
          "metadata": {
            "tags": []
          },
          "execution_count": 6
        }
      ]
    },
    {
      "cell_type": "markdown",
      "metadata": {
        "id": "r9DshWMqPuhL"
      },
      "source": [
        "These values indicate there is no missing or null values in the dataset.\n"
      ]
    },
    {
      "cell_type": "code",
      "metadata": {
        "colab": {
          "base_uri": "https://localhost:8080/"
        },
        "id": "mgwdfuPdoIWI",
        "outputId": "a44794fa-e626-4b2e-d351-91eb5527d56f"
      },
      "source": [
        "train.columns"
      ],
      "execution_count": null,
      "outputs": [
        {
          "output_type": "execute_result",
          "data": {
            "text/plain": [
              "Index(['tBodyAcc-mean()-X', 'tBodyAcc-mean()-Y', 'tBodyAcc-mean()-Z',\n",
              "       'tBodyAcc-std()-X', 'tBodyAcc-std()-Y', 'tBodyAcc-std()-Z',\n",
              "       'tBodyAcc-mad()-X', 'tBodyAcc-mad()-Y', 'tBodyAcc-mad()-Z',\n",
              "       'tBodyAcc-max()-X',\n",
              "       ...\n",
              "       'fBodyBodyGyroJerkMag-kurtosis()', 'angle(tBodyAccMean,gravity)',\n",
              "       'angle(tBodyAccJerkMean),gravityMean)',\n",
              "       'angle(tBodyGyroMean,gravityMean)',\n",
              "       'angle(tBodyGyroJerkMean,gravityMean)', 'angle(X,gravityMean)',\n",
              "       'angle(Y,gravityMean)', 'angle(Z,gravityMean)', 'subject', 'Activity'],\n",
              "      dtype='object', length=563)"
            ]
          },
          "metadata": {
            "tags": []
          },
          "execution_count": 7
        }
      ]
    },
    {
      "cell_type": "code",
      "metadata": {
        "colab": {
          "base_uri": "https://localhost:8080/"
        },
        "id": "QCJgUVSzoITC",
        "outputId": "cb525082-b2ce-421e-a7c8-e4c2509650b2"
      },
      "source": [
        "train['Activity'].unique()"
      ],
      "execution_count": null,
      "outputs": [
        {
          "output_type": "execute_result",
          "data": {
            "text/plain": [
              "array(['STANDING', 'SITTING', 'LAYING', 'WALKING', 'WALKING_DOWNSTAIRS',\n",
              "       'WALKING_UPSTAIRS'], dtype=object)"
            ]
          },
          "metadata": {
            "tags": []
          },
          "execution_count": 8
        }
      ]
    },
    {
      "cell_type": "code",
      "metadata": {
        "colab": {
          "base_uri": "https://localhost:8080/",
          "height": 503
        },
        "id": "fldo_pIgJgCM",
        "outputId": "d7e35a48-a726-4ae7-f85b-5a8462e877cd"
      },
      "source": [
        "sns.set()\n",
        "countplt=sns.countplot(x='Activity', data=train, palette ='hls')\n",
        "plt.show()"
      ],
      "execution_count": null,
      "outputs": [
        {
          "output_type": "display_data",
          "data": {
            "image/png": "[encoded data removed]",
            "text/plain": [
              "<Figure size 864x576 with 1 Axes>"
            ]
          },
          "metadata": {
            "tags": []
          }
        }
      ]
    },
    {
      "cell_type": "markdown",
      "metadata": {
        "id": "ELlEYgr3P38q"
      },
      "source": [
        "Class ’Laying’ has the most number of samples present in the train set and class ’Walking Down’ has the least number of samples."
      ]
    },
    {
      "cell_type": "code",
      "metadata": {
        "id": "4FrIa1PbIvFe"
      },
      "source": [
        "train = train.drop(labels=['subject'], axis=1)\n",
        "test = test.drop(labels=['subject'], axis=1)"
      ],
      "execution_count": null,
      "outputs": []
    },
    {
      "cell_type": "code",
      "metadata": {
        "id": "SmV3Dv8ia5rc"
      },
      "source": [
        "scaler= StandardScaler()"
      ],
      "execution_count": null,
      "outputs": []
    },
    {
      "cell_type": "code",
      "metadata": {
        "id": "0Iuls-O0ZpM3"
      },
      "source": [
        "train_X = train.drop(labels=['Activity'], axis=1)\n",
        "train_X = scaler.fit_transform(train_X)\n",
        "train_y = train['Activity']\n",
        "train_y_encoded = pd.get_dummies(train_y)"
      ],
      "execution_count": null,
      "outputs": []
    },
    {
      "cell_type": "code",
      "metadata": {
        "id": "hL6prYv_Z3mY"
      },
      "source": [
        "test_X = test.drop(labels=['Activity'], axis=1)\n",
        "test_X = scaler.fit_transform(test_X)\n",
        "test_y = test['Activity']\n",
        "test_y_encoded = pd.get_dummies(test_y)"
      ],
      "execution_count": null,
      "outputs": []
    },
    {
      "cell_type": "code",
      "metadata": {
        "colab": {
          "base_uri": "https://localhost:8080/"
        },
        "id": "uhiJlL0GH0bA",
        "outputId": "0bfd33ae-1240-41be-aaec-4e9d1f33f678"
      },
      "source": [
        "# PCA analysis\n",
        "pca = PCA(n_components=10)\n",
        "pca.fit(train_X)"
      ],
      "execution_count": null,
      "outputs": [
        {
          "output_type": "execute_result",
          "data": {
            "text/plain": [
              "PCA(copy=True, iterated_power='auto', n_components=10, random_state=None,\n",
              "    svd_solver='auto', tol=0.0, whiten=False)"
            ]
          },
          "metadata": {
            "tags": []
          },
          "execution_count": 37
        }
      ]
    },
    {
      "cell_type": "code",
      "metadata": {
        "colab": {
          "base_uri": "https://localhost:8080/"
        },
        "id": "M3aBLuguPSVm",
        "outputId": "210c6fb6-44f2-44a4-a2f2-45d6b45b152f"
      },
      "source": [
        "pca_data = pca.transform(train_X)\n",
        "pca_data.shape"
      ],
      "execution_count": null,
      "outputs": [
        {
          "output_type": "execute_result",
          "data": {
            "text/plain": [
              "(7352, 10)"
            ]
          },
          "metadata": {
            "tags": []
          },
          "execution_count": 41
        }
      ]
    },
    {
      "cell_type": "code",
      "metadata": {
        "id": "4TCXZNTlNqPd"
      },
      "source": [
        "variation_per_pc = (pca.explained_variance_ratio_)*100\n",
        "labels = ['PC'+str(x) for x in range(1, len(variation_per_pc)+1)]"
      ],
      "execution_count": null,
      "outputs": []
    },
    {
      "cell_type": "code",
      "metadata": {
        "colab": {
          "base_uri": "https://localhost:8080/",
          "height": 518
        },
        "id": "ylC--rpsNqMh",
        "outputId": "8e814485-f20f-49d1-ebf9-4a725b3d0601"
      },
      "source": [
        "plt.bar(x=range(1, len(variation_per_pc)+1), height=variation_per_pc, tick_label=labels)\n",
        "plt.ylabel('Percent Contribution ')\n",
        "plt.xlabel('Principal Component')\n",
        "plt.title('Scree Plot')\n",
        "plt.show()"
      ],
      "execution_count": null,
      "outputs": [
        {
          "output_type": "display_data",
          "data": {
            "image/png": "[encoded data removed]",
            "text/plain": [
              "<Figure size 864x576 with 1 Axes>"
            ]
          },
          "metadata": {
            "tags": []
          }
        }
      ]
    },
    {
      "cell_type": "markdown",
      "metadata": {
        "id": "7tjRNr61QPid"
      },
      "source": [
        "The plot indicates that principal component 1 captures the most variation, around 51%. This percentage falls sharply for successive principal components.\n"
      ]
    },
    {
      "cell_type": "code",
      "metadata": {
        "colab": {
          "base_uri": "https://localhost:8080/",
          "height": 518
        },
        "id": "VV3QPCXxH512",
        "outputId": "76a04589-ae8e-4bc1-8860-b9952c79c97f"
      },
      "source": [
        "df = pd.DataFrame(pca_data, columns=labels)\n",
        "colors = ['red', 'yellow', 'pink', 'blue', 'green', 'purple']\n",
        "for color, activity in zip(colors, train_y.unique()):\n",
        "  plt.scatter(x=df.PC1[train_y == activity],\n",
        "              y=df.PC2[train_y == activity],\n",
        "              color=color,\n",
        "              label=activity)\n",
        "\n",
        "plt.title('PCA Graph')\n",
        "plt.legend()\n",
        "plt.grid(alpha=.4,linestyle='--')\n",
        "plt.xlabel('PC1 - {0}%'.format(variation_per_pc[0]))\n",
        "plt.ylabel('PC2 - {0}%'.format(variation_per_pc[1]))\n",
        "\n",
        "plt.show()"
      ],
      "execution_count": null,
      "outputs": [
        {
          "output_type": "display_data",
          "data": {
            "image/png": "[encoded data removed]",
            "text/plain": [
              "<Figure size 864x576 with 1 Axes>"
            ]
          },
          "metadata": {
            "tags": []
          }
        }
      ]
    },
    {
      "cell_type": "markdown",
      "metadata": {
        "id": "ltmJU9keS6bo"
      },
      "source": [
        "The plot describes the projection of dataset on the principal components. From the graph, we can infer that on 2D plane, the projected samples are close to each other. Class 'WALKING DOWNSTAIRS' has some outliers and is more widely spread. Other than that, most of the points are clustered together. PC1 is able to separate 'LAYING', 'STANDING' & 'SITTING' class samples from other class samples. Along PC2, much difference among classes is not there."
      ]
    },
    {
      "cell_type": "code",
      "metadata": {
        "id": "v41Y8SVyZ8Xh"
      },
      "source": [
        "# Implementation for One-vs-All Perceptron model\n",
        "class CustomPerceptron:\n",
        "  def __init__(self):\n",
        "    self.weights = None\n",
        "    self.bias = None\n",
        "\n",
        "  def fit(self, data_x, data_y, epochs, learning_rate, ridge_reg_param = 0, lasso_reg_param = 0):\n",
        "    weights = np.random.uniform(low=-0.3, high=0.3, size=(data_y.shape[1], data_x.shape[1]))\n",
        "    bias = np.random.uniform(low=-0.3, high=0.3, size=(data_y.shape[1]))\n",
        "    for _ in range(epochs):\n",
        "      data_x, data_y = shuffle(data_x, data_y)\n",
        "      for x, y in zip(data_x, data_y):\n",
        "        prediction = self.sigmoid(np.dot(weights, x)+bias)\n",
        "        error = (prediction-y)*prediction*(1-prediction)\n",
        "        bias -= learning_rate*error \n",
        "        error = error.reshape(error.shape[0], 1)\n",
        "        weights = weights*(1-learning_rate*ridge_reg_param)-learning_rate*error*x\n",
        "    self.weights = weights\n",
        "    self.bias = bias\n",
        "\n",
        "  def test(self, data_x):\n",
        "    prediction_arr = np.array([self.sigmoid(np.dot(self.weights, x) + self.bias)\n",
        "                               for x in data_x])\n",
        "    return [np.argmax(row) for row in prediction_arr]\n",
        "\n",
        "  def sigmoid(self, x):\n",
        "    return expit(x)\n",
        "\n",
        "  def relu(self, x):\n",
        "    return np.maximum(0,x)"
      ],
      "execution_count": null,
      "outputs": []
    },
    {
      "cell_type": "code",
      "metadata": {
        "id": "ZBFRTXfobpP5"
      },
      "source": [
        "epochs = [30, 35, 40, 45, 50, 55, 60]\n",
        "learning_rates = [0.1, 0.01, 0.001, 0.0001, 0.3, 0.03, 0.003, 0.5, 0.05, 0.005, \n",
        "                  0.8, 0.08, 0.008]\n"
      ],
      "execution_count": null,
      "outputs": []
    },
    {
      "cell_type": "code",
      "metadata": {
        "id": "PaMlpsNndf2P"
      },
      "source": [
        "best_model = None\n",
        "best_accuracy = 0\n",
        "best_n_epoch = 0\n",
        "best_learning_rate = 0\n",
        "\n",
        "for epoch in epochs:\n",
        "  for learning_rate in learning_rates:\n",
        "    classifier = CustomPerceptron()\n",
        "    classifier.fit(train_X, train_y_encoded.values, epoch, learning_rate)\n",
        "\n",
        "    actual_values = [np.argmax(row) for row in test_y_encoded.values]\n",
        "    predicted_values = classifier.test(test_X)\n",
        "    accuracy = accuracy_score(actual_values, predicted_values)\n",
        "\n",
        "    if accuracy > best_accuracy:\n",
        "      best_accuracy = accuracy\n",
        "      best_model = classifier\n",
        "      best_n_epoch = epoch\n",
        "      best_learning_rate = learning_rate"
      ],
      "execution_count": null,
      "outputs": []
    },
    {
      "cell_type": "code",
      "metadata": {
        "id": "x_5VsxQoCDig"
      },
      "source": [
        "actual_values = [np.argmax(row) for row in train_y_encoded.values]\n",
        "predicted_values = best_model.test(train_X)\n",
        "train_accuracy = accuracy_score(actual_values, predicted_values)"
      ],
      "execution_count": null,
      "outputs": []
    },
    {
      "cell_type": "code",
      "metadata": {
        "colab": {
          "base_uri": "https://localhost:8080/"
        },
        "id": "ws2vEs0UehBB",
        "outputId": "526cbd04-1961-4003-b276-3ad602a03c7e"
      },
      "source": [
        "print('Best epoch:', best_n_epoch)\n",
        "print('Best learning rate:', best_learning_rate)\n",
        "print('Best train accuracy:', train_accuracy)\n",
        "print('Best test accuracy:', accuracy)"
      ],
      "execution_count": null,
      "outputs": [
        {
          "output_type": "stream",
          "text": [
            "Best epoch: 45\n",
            "Best learning rate: 0.01\n",
            "Best train accuracy: 0.9906147986942329\n",
            "Best test accuracy: 0.9545300305395318\n"
          ],
          "name": "stdout"
        }
      ]
    },
    {
      "cell_type": "markdown",
      "metadata": {
        "id": "ABRgqtXcTakt"
      },
      "source": [
        "One-vs-all SLP model fits the dataset very well and gives very high test accuracy indicating that the data is linearly separable since SLP draws linear hyperplane for distinguishing the classes."
      ]
    },
    {
      "cell_type": "code",
      "metadata": {
        "id": "IL6IXZQXj5AH"
      },
      "source": [
        "epochs = [300, 400, 500, 600, 700, 800, 900, 1000, 1100]\n",
        "learning_rates = [0.1, 0.01, 0.001, 0.0001, 0.3, 0.03, 0.003, 0.5, 0.05, 0.005, \n",
        "                  0.8, 0.08, 0.008]"
      ],
      "execution_count": null,
      "outputs": []
    },
    {
      "cell_type": "code",
      "metadata": {
        "colab": {
          "base_uri": "https://localhost:8080/"
        },
        "id": "4-cuWBoLj7q5",
        "outputId": "4a45ffde-f234-44fc-dab0-1361d1e9e398"
      },
      "source": [
        "best_model = None\n",
        "best_accuracy = 0\n",
        "best_epoch = 0\n",
        "best_lr = 0\n",
        "\n",
        "for epoch in epochs:\n",
        "  for learning_rate in learning_rates:\n",
        "    cls = Perceptron(tol=1e-3, alpha=learning_rate, max_iter=epoch).fit(train_X, train_y)\n",
        "    score = accuracy_score(test_y, cls.predict(test_X))\n",
        "    if score > best_accuracy:\n",
        "      print(epoch, learning_rate, score)\n",
        "      best_accuracy = score\n",
        "      best_model = cls\n",
        "      best_epoch = epoch\n",
        "      best_lr = learning_rate"
      ],
      "execution_count": null,
      "outputs": [
        {
          "output_type": "stream",
          "text": [
            "300 0.1 0.9480827960637936\n"
          ],
          "name": "stdout"
        }
      ]
    },
    {
      "cell_type": "markdown",
      "metadata": {
        "id": "g4O5FFpZTpPs"
      },
      "source": [
        "The library function gives the above test accuracy for the given values of learning rates and number of epochs\n",
        "\n"
      ]
    },
    {
      "cell_type": "code",
      "metadata": {
        "id": "Ij12tyCB5owa"
      },
      "source": [
        "# Implementation RBF Network model\n",
        "class RBFNetwork:\n",
        "  def __init__(self):\n",
        "    self.repr = None\n",
        "    self.sigma = None\n",
        "    self.classifier = None\n",
        "\n",
        "  def fit(self, train_X, train_y, n_repr, learning_rate, epochs,\n",
        "          use_random=True, random_seed=None, use_manhattan=False, reg_param=0):\n",
        "    repr = self.find_repr(train_X, n_repr, use_random, random_seed)\n",
        "    sigma = self.calc_sigma(repr, use_manhattan)\n",
        "    phi = self.transform(train_X, repr, sigma, use_manhattan)\n",
        "    classifier = Perceptron(tol=1e-3, random_state=random_seed,\n",
        "                            alpha=learning_rate,\n",
        "                            max_iter=epochs).fit(train_X, train_y)\n",
        "    self.repr = repr\n",
        "    self.sigma = sigma\n",
        "    self.classifier = classifier\n",
        "\n",
        "  def test(self, test_X, test_y, use_manhattan=False):\n",
        "    phi = self.transform(test_X, self.repr, self.sigma, use_manhattan)\n",
        "    return accuracy_score(test_y, self.classifier.predict(test_X))\n",
        "\n",
        "  def transform(self, data, repr, sigma, use_manhattan):\n",
        "    n_rows = data.shape[0]\n",
        "    n_cols = repr.shape[0]\n",
        "    phi = np.empty((n_rows,n_cols), dtype= float)\n",
        "    for i in range(n_rows):\n",
        "        for j in range(n_cols):\n",
        "            phi[i][j] = self.rbf(data[i], repr[j], sigma, use_manhattan)\n",
        "    return phi\n",
        "  \n",
        "  def find_repr(self, data, n_repr, use_random, random_seed):\n",
        "    if use_random:\n",
        "      random_indices = np.random.choice(data.shape[0], size=n_repr, replace=False)\n",
        "      return data[random_indices, :]\n",
        "    return KMeans(n_clusters=n_repr, max_iter=300).fit(data).cluster_centers_\n",
        "  \n",
        "  def calc_sigma(self, repr, use_manhattan):\n",
        "    max_dist = 0\n",
        "    for point_a in repr:\n",
        "      for point_b in repr:\n",
        "        if use_manhattan:\n",
        "          dist = distance.cityblock(point_a, point_b)\n",
        "        else:\n",
        "          dist = distance.euclidean(point_a, point_b)\n",
        "        if dist > max_dist:\n",
        "          max_dist = dist\n",
        "    return max_dist/np.sqrt(2*repr.shape[0])\n",
        "\n",
        "  def rbf(self, point_a, point_b, sigma, use_manhattan):\n",
        "    if use_manhattan:\n",
        "      dist = distance.cityblock(point_a, point_b)\n",
        "      return np.exp(-(dist)/np.power(2*sigma,2))\n",
        "    else:\n",
        "      dist = distance.euclidean(point_a, point_b)\n",
        "      return np.exp(-np.power(dist,2)/np.power(2*sigma,2))"
      ],
      "execution_count": null,
      "outputs": []
    },
    {
      "cell_type": "markdown",
      "metadata": {
        "id": "ZzK5VmiMr06C"
      },
      "source": [
        "Two different kernel functions have been used here\n",
        "\n",
        "**A. Traditional Gaussian RBF using Euclidean Function**\n",
        "\n",
        "This is the commonly used radial basis function in RBF Networks.\n",
        "\n",
        "\n",
        "<img src=\"https://i.ibb.co/JHcDmy0/d2-1.png\">\n",
        "\n",
        "Here 'D' is Euclidean Distance metric:\n",
        "\n",
        "<img src=\"https://i.ibb.co/f8WgnQk/d2.png\">\n",
        "\n",
        "\n",
        "\n",
        "**B. Custom RBF using Manhattan Function**\n",
        "\n",
        "<img src=\"https://i.ibb.co/k5K4YMm/d1-1.png\">\n",
        "\n",
        "Here 'D' is Manhattan Distance metric:\n",
        "\n",
        "<img src=\"https://i.ibb.co/gzrKqTT/d1.png\">\n",
        "\n",
        "Here I have introduced a new kernel function. The intuition behind using this function comes from this paper: '[On the surprising behavior of distancemetrics in high dimensional space](https://link.springer.com/chapter/10.1007/3-540-44503-X_27)'. It describes the effect of high dimensionality on the effectiveness of distance metrics and prove that L1 norm i.e. Manhattan distance metric performs consistently better than L2 norm i.e. Euclidean distance metric in terms of measuring distances. Since the given data has high dimensionality, it is intuitive that the new kernel function will work atleast as good as the traditional one. This function can applied in other models as well which make use of distance metrics for finding similarities in case of high dimensionality data."
      ]
    },
    {
      "cell_type": "code",
      "metadata": {
        "colab": {
          "base_uri": "https://localhost:8080/"
        },
        "id": "rlYY_owAVC5V",
        "outputId": "cbfe9a1a-f530-4dc6-d9e3-2db881171f0e"
      },
      "source": [
        "# Intitial testing\n",
        "rbfn = RBFNetwork()\n",
        "rbfn.fit(train_X, train_y, 600, 1e-6, 300, random_seed=1)\n",
        "rbfn.test(test_X, test_y)"
      ],
      "execution_count": null,
      "outputs": [
        {
          "output_type": "execute_result",
          "data": {
            "text/plain": [
              "0.9518154054971157"
            ]
          },
          "metadata": {
            "tags": []
          },
          "execution_count": 53
        }
      ]
    },
    {
      "cell_type": "code",
      "metadata": {
        "id": "IToCbB_ZZWDI"
      },
      "source": [
        "n_repr = [561, 600]\n",
        "n_epochs = [300, 500]\n",
        "learning_rates = [1e-1, 1e-4, 1e-6,\n",
        "                  5e-1, 5e-3, 5e-5]"
      ],
      "execution_count": null,
      "outputs": []
    },
    {
      "cell_type": "code",
      "metadata": {
        "id": "KusyhKniddgm"
      },
      "source": [
        "best_model = None\n",
        "best_test_accuracy = 0\n",
        "train_accuracy = 0\n",
        "best_n_epoch = 0\n",
        "best_n_repr = 0\n",
        "best_lr = 0"
      ],
      "execution_count": null,
      "outputs": []
    },
    {
      "cell_type": "code",
      "metadata": {
        "colab": {
          "base_uri": "https://localhost:8080/"
        },
        "id": "NnI6LCXLdwOB",
        "outputId": "25cc8a84-a65e-4b91-b613-802ba04da09f"
      },
      "source": [
        "# this run is using the Gaussian RBF function\n",
        "for epoch in n_epochs:\n",
        "  for learning_rate in learning_rates:\n",
        "    for repr in n_repr:\n",
        "      rbfn = RBFNetwork()\n",
        "      rbfn.fit(train_X, train_y, epochs=epoch,\n",
        "               learning_rate=learning_rate, n_repr=repr)\n",
        "      train_score = rbfn.test(train_X, train_y)\n",
        "      test_score = rbfn.test(test_X, test_y)\n",
        "      if test_score > best_test_accuracy:\n",
        "        print('best:', epoch, learning_rate, repr, test_score, train_score)\n",
        "        best_test_accuracy = test_score\n",
        "        best_model = rbfn\n",
        "        best_n_epoch = epoch\n",
        "        best_n_repr = repr\n",
        "        best_lr = learning_rate\n",
        "        train_accuracy = train_score"
      ],
      "execution_count": null,
      "outputs": [
        {
          "output_type": "stream",
          "text": [
            "best: 300 0.1 561 0.9545300305395318 0.9883025027203483\n",
            "best: 300 0.1 600 0.9609772650152698 0.9900707290533188\n",
            "best: 500 0.5 600 0.9619952494061758 0.9881664853101197\n"
          ],
          "name": "stdout"
        }
      ]
    },
    {
      "cell_type": "markdown",
      "metadata": {
        "id": "YmsdiX4-U2N2"
      },
      "source": [
        "The best test accuracy 96.19 is corresponding to 500 epochs, 0.5 learning rate and is using 600 centroids"
      ]
    },
    {
      "cell_type": "code",
      "metadata": {
        "id": "Rl4XPAwZrG6w"
      },
      "source": [
        "best_model = None\n",
        "best_test_accuracy = 0\n",
        "train_accuracy = 0\n",
        "best_n_epoch = 0\n",
        "best_n_repr = 0\n",
        "best_lr = 0"
      ],
      "execution_count": null,
      "outputs": []
    },
    {
      "cell_type": "code",
      "metadata": {
        "id": "T29yENMNI_9S"
      },
      "source": [
        "n_repr = [561, 600]\n",
        "n_epochs = [300, 500]\n",
        "learning_rates = [1e-2, 1e-4, 1e-6, 1e-8,\n",
        "                  5e-2, 5e-4, 5e-5]"
      ],
      "execution_count": null,
      "outputs": []
    },
    {
      "cell_type": "code",
      "metadata": {
        "colab": {
          "base_uri": "https://localhost:8080/"
        },
        "id": "qkW6i_-RfEkz",
        "outputId": "58fd090d-9983-4c86-f8a0-208d11fc2b9a"
      },
      "source": [
        "# this run is using the new RBF function using Manhattan distance\n",
        "for epoch in n_epochs:\n",
        "  for learning_rate in learning_rates:\n",
        "    for repr in n_repr:\n",
        "      rbfn = RBFNetwork()\n",
        "      rbfn.fit(train_X, train_y, epochs=epoch,\n",
        "               learning_rate=learning_rate, n_repr=repr, use_manhattan=True)\n",
        "      train_score = rbfn.test(train_X, train_y)\n",
        "      test_score = rbfn.test(test_X, test_y)\n",
        "      if test_score > best_test_accuracy:\n",
        "        print('best:', epoch, learning_rate, repr, test_score, train_score)\n",
        "        best_test_accuracy = test_score\n",
        "        best_model = rbfn\n",
        "        best_n_epoch = epoch\n",
        "        best_n_repr = repr\n",
        "        best_lr = learning_rate\n",
        "        train_accuracy = train_score"
      ],
      "execution_count": null,
      "outputs": [
        {
          "output_type": "stream",
          "text": [
            "best: 300 0.01 561 0.9524940617577197 0.9870783460282916\n",
            "best: 300 0.0001 561 0.9572446555819477 0.9922470076169749\n",
            "best: 300 1e-08 561 0.9575839837122497 0.9866702937976061\n",
            "best: 300 0.05 561 0.9592806243637597 0.9876224156692056\n",
            "best: 500 1e-06 561 0.9667458432304038 0.9885745375408053\n"
          ],
          "name": "stdout"
        }
      ]
    },
    {
      "cell_type": "markdown",
      "metadata": {
        "id": "h9Nro3mWVO6b"
      },
      "source": [
        "The best test accuracy 96.67 is corresponding to 500 epochs, 1e-06 learning rate and is using 561 centroids"
      ]
    },
    {
      "cell_type": "markdown",
      "metadata": {
        "id": "8VD5nSXUqAA-"
      },
      "source": [
        "**Inference: The new kernel function is working well. However this performance can be enhanced further if we can apply the same distance metric for calculating the centroids in K-Means step. Since the library function does not support custom distance metric and that the custom implementation of K-Means is very slow for the given high dimensional data, I could not implement the version here and it will part of my future work.**"
      ]
    },
    {
      "cell_type": "code",
      "metadata": {
        "id": "wPIm7PYZ6TU6"
      },
      "source": [
        ""
      ],
      "execution_count": null,
      "outputs": []
    }
  ]
}